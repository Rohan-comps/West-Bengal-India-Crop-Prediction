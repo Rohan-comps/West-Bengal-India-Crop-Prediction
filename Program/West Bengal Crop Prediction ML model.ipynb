{
 "cells": [
  {
   "cell_type": "code",
   "execution_count": 7,
   "id": "b7447b3d",
   "metadata": {},
   "outputs": [],
   "source": [
    "from __future__ import print_function\n",
    "import pandas as pd\n",
    "import numpy as np\n",
    "import matplotlib.pyplot as plt\n",
    "import seaborn as sns\n",
    "from sklearn.metrics import classification_report\n",
    "from sklearn import metrics\n",
    "from sklearn import tree\n",
    "from sklearn.metrics import confusion_matrix\n",
    "import warnings\n",
    "warnings.filterwarnings('ignore')"
   ]
  },
  {
   "cell_type": "code",
   "execution_count": 8,
   "id": "5e568ea5",
   "metadata": {},
   "outputs": [],
   "source": [
    "df=pd.read_csv(\"F:/Project/University_Project/Dataset/Crop/data2.csv\") "
   ]
  },
  {
   "cell_type": "code",
   "execution_count": 9,
   "id": "cdbfa0a9",
   "metadata": {},
   "outputs": [],
   "source": [
    "features = df[['Crop_Year','Area','Production_N']]\n",
    "target = df['Crop']\n",
    "labels = df['Crop']"
   ]
  },
  {
   "cell_type": "code",
   "execution_count": 10,
   "id": "e57b7eda",
   "metadata": {},
   "outputs": [],
   "source": [
    "# Initializing empty lists to append all model's name and corresponding name\n",
    "acc = []\n",
    "model = []"
   ]
  },
  {
   "cell_type": "code",
   "execution_count": 11,
   "id": "79c98270",
   "metadata": {},
   "outputs": [],
   "source": [
    "from sklearn.model_selection import train_test_split\n",
    "Xtrain, Xtest, Ytrain, Ytest = train_test_split(features,target,test_size = 0.2,random_state =2)"
   ]
  },
  {
   "cell_type": "code",
   "execution_count": 12,
   "id": "522a5192",
   "metadata": {},
   "outputs": [
    {
     "name": "stdout",
     "output_type": "stream",
     "text": [
      "DecisionTrees's Accuracy is:  15.351906158357773\n",
      "                       precision    recall  f1-score   support\n",
      "\n",
      "             Arecanut       0.00      0.00      0.00        69\n",
      "            Arhar/Tur       0.00      0.00      0.00       142\n",
      "                Bajra       0.00      0.00      0.00        28\n",
      "               Barley       0.00      0.00      0.00       105\n",
      "             Cardamom       0.00      0.00      0.00         6\n",
      "          Castor seed       0.00      0.00      0.00        10\n",
      "         Cotton(lint)       0.00      0.00      0.00        60\n",
      "         Dry chillies       0.16      0.30      0.21       100\n",
      "           Dry ginger       0.12      0.09      0.11       132\n",
      "               Garlic       0.00      0.00      0.00        18\n",
      "                 Gram       0.00      0.00      0.00       155\n",
      "            Groundnut       0.07      0.17      0.10       420\n",
      "           Horse-gram       0.00      0.00      0.00       118\n",
      "                Jowar       0.00      0.00      0.00        20\n",
      "                 Jute       0.00      0.00      0.00       202\n",
      "              Khesari       0.00      0.00      0.00       200\n",
      "              Linseed       0.00      0.00      0.00       175\n",
      "                Maize       0.12      0.31      0.18       475\n",
      "               Masoor       0.00      0.00      0.00       230\n",
      "                Mesta       0.00      0.00      0.00       154\n",
      "    Moong(Green Gram)       0.15      0.28      0.19       459\n",
      "                 Moth       0.00      0.00      0.00         4\n",
      "           Niger seed       0.00      0.00      0.00       103\n",
      "   Other  Rabi pulses       0.00      0.00      0.00        23\n",
      "  Other Kharif pulses       0.00      0.00      0.00        36\n",
      "Peas & beans (Pulses)       0.00      0.00      0.00       201\n",
      "               Potato       0.10      0.18      0.13       239\n",
      "                 Ragi       0.00      0.00      0.00        72\n",
      "    Rapeseed &Mustard       0.22      0.05      0.08       239\n",
      "                 Rice       0.21      0.74      0.33       699\n",
      "            Safflower       0.00      0.00      0.00        86\n",
      "             Sannhamp       0.00      0.00      0.00       105\n",
      "              Sesamum       0.17      0.15      0.16       437\n",
      "        Small millets       0.00      0.00      0.00        96\n",
      "             Soyabean       0.00      0.00      0.00        49\n",
      "            Sugarcane       0.00      0.00      0.00       199\n",
      "            Sunflower       0.00      0.00      0.00       198\n",
      "              Tobacco       0.00      0.00      0.00        71\n",
      "             Turmeric       0.00      0.00      0.00       113\n",
      "                 Urad       0.12      0.07      0.09       347\n",
      "                Wheat       0.00      0.00      0.00       225\n",
      "\n",
      "             accuracy                           0.15      6820\n",
      "            macro avg       0.04      0.06      0.04      6820\n",
      "         weighted avg       0.08      0.15      0.09      6820\n",
      "\n"
     ]
    }
   ],
   "source": [
    "from sklearn.tree import DecisionTreeClassifier\n",
    "\n",
    "DecisionTree = DecisionTreeClassifier(criterion=\"entropy\",random_state=2,max_depth=5)\n",
    "\n",
    "DecisionTree.fit(Xtrain,Ytrain)\n",
    "\n",
    "predicted_values = DecisionTree.predict(Xtest)\n",
    "x = metrics.accuracy_score(Ytest, predicted_values)\n",
    "acc.append(x)\n",
    "model.append('Decision Tree')\n",
    "print(\"DecisionTrees's Accuracy is: \", x*100)\n",
    "\n",
    "print(classification_report(Ytest,predicted_values))"
   ]
  },
  {
   "cell_type": "code",
   "execution_count": 13,
   "id": "da5f447a",
   "metadata": {},
   "outputs": [
    {
     "name": "stdout",
     "output_type": "stream",
     "text": [
      "Naive Bayes's Accuracy is:  0.0687683284457478\n",
      "                       precision    recall  f1-score   support\n",
      "\n",
      "             Arecanut       0.00      0.00      0.00        69\n",
      "            Arhar/Tur       0.03      0.80      0.06       142\n",
      "                Bajra       0.00      0.00      0.00        28\n",
      "               Barley       0.00      0.00      0.00       105\n",
      "             Cardamom       0.00      0.00      0.00         6\n",
      "          Castor seed       0.00      0.00      0.00        10\n",
      "         Cotton(lint)       0.00      0.00      0.00        60\n",
      "         Dry chillies       0.18      0.16      0.17       100\n",
      "           Dry ginger       0.06      0.08      0.07       132\n",
      "               Garlic       0.00      0.00      0.00        18\n",
      "                 Gram       0.00      0.00      0.00       155\n",
      "            Groundnut       0.05      0.01      0.02       420\n",
      "           Horse-gram       0.09      0.06      0.07       118\n",
      "                Jowar       0.00      0.00      0.00        20\n",
      "                 Jute       0.00      0.00      0.00       202\n",
      "              Khesari       0.00      0.00      0.00       200\n",
      "              Linseed       0.03      0.07      0.05       175\n",
      "                Maize       0.15      0.06      0.08       475\n",
      "               Masoor       0.00      0.00      0.00       230\n",
      "                Mesta       0.00      0.00      0.00       154\n",
      "    Moong(Green Gram)       0.06      0.06      0.06       459\n",
      "                 Moth       0.00      0.25      0.01         4\n",
      "           Niger seed       0.00      0.00      0.00       103\n",
      "   Other  Rabi pulses       0.00      0.00      0.00        23\n",
      "  Other Kharif pulses       0.00      0.00      0.00        36\n",
      "Peas & beans (Pulses)       0.00      0.00      0.00       201\n",
      "               Potato       0.06      0.01      0.01       239\n",
      "                 Ragi       0.00      0.00      0.00        72\n",
      "    Rapeseed &Mustard       0.18      0.04      0.07       239\n",
      "                 Rice       0.63      0.30      0.41       699\n",
      "            Safflower       0.00      0.00      0.00        86\n",
      "             Sannhamp       0.01      0.03      0.01       105\n",
      "              Sesamum       0.06      0.03      0.04       437\n",
      "        Small millets       0.00      0.00      0.00        96\n",
      "             Soyabean       0.00      0.00      0.00        49\n",
      "            Sugarcane       0.00      0.00      0.00       199\n",
      "            Sunflower       0.00      0.00      0.00       198\n",
      "              Tobacco       0.00      0.00      0.00        71\n",
      "             Turmeric       0.04      0.04      0.04       113\n",
      "                 Urad       0.00      0.00      0.00       347\n",
      "                Wheat       0.00      0.00      0.00       225\n",
      "\n",
      "             accuracy                           0.07      6820\n",
      "            macro avg       0.04      0.05      0.03      6820\n",
      "         weighted avg       0.10      0.07      0.07      6820\n",
      "\n"
     ]
    }
   ],
   "source": [
    "from sklearn.naive_bayes import GaussianNB\n",
    "\n",
    "NaiveBayes = GaussianNB()\n",
    "\n",
    "NaiveBayes.fit(Xtrain,Ytrain)\n",
    "\n",
    "predicted_values = NaiveBayes.predict(Xtest)\n",
    "x = metrics.accuracy_score(Ytest, predicted_values)\n",
    "acc.append(x)\n",
    "model.append('Naive Bayes')\n",
    "print(\"Naive Bayes's Accuracy is: \", x)\n",
    "\n",
    "print(classification_report(Ytest,predicted_values))"
   ]
  },
  {
   "cell_type": "code",
   "execution_count": 14,
   "id": "7e79ff98",
   "metadata": {},
   "outputs": [
    {
     "name": "stdout",
     "output_type": "stream",
     "text": [
      "SVM's Accuracy is:  0.4341642228739003\n",
      "                       precision    recall  f1-score   support\n",
      "\n",
      "             Arecanut       0.57      0.25      0.34        69\n",
      "            Arhar/Tur       0.40      0.12      0.18       142\n",
      "                Bajra       0.50      0.04      0.07        28\n",
      "               Barley       0.88      0.22      0.35       105\n",
      "             Cardamom       1.00      0.17      0.29         6\n",
      "          Castor seed       0.50      0.20      0.29        10\n",
      "         Cotton(lint)       0.62      0.25      0.36        60\n",
      "         Dry chillies       0.36      0.53      0.43       100\n",
      "           Dry ginger       0.67      0.26      0.37       132\n",
      "               Garlic       1.00      0.17      0.29        18\n",
      "                 Gram       0.46      0.30      0.36       155\n",
      "            Groundnut       0.34      0.40      0.36       420\n",
      "           Horse-gram       0.62      0.26      0.37       118\n",
      "                Jowar       1.00      0.10      0.18        20\n",
      "                 Jute       0.73      0.71      0.72       202\n",
      "              Khesari       0.62      0.31      0.41       200\n",
      "              Linseed       0.59      0.15      0.24       175\n",
      "                Maize       0.38      0.49      0.43       475\n",
      "               Masoor       0.59      0.38      0.47       230\n",
      "                Mesta       0.47      0.27      0.35       154\n",
      "    Moong(Green Gram)       0.18      0.72      0.29       459\n",
      "                 Moth       0.00      0.00      0.00         4\n",
      "           Niger seed       0.74      0.25      0.38       103\n",
      "   Other  Rabi pulses       0.50      0.13      0.21        23\n",
      "  Other Kharif pulses       0.64      0.19      0.30        36\n",
      "Peas & beans (Pulses)       0.57      0.20      0.30       201\n",
      "               Potato       0.78      0.75      0.76       239\n",
      "                 Ragi       0.62      0.33      0.43        72\n",
      "    Rapeseed &Mustard       0.67      0.54      0.60       239\n",
      "                 Rice       0.63      0.81      0.71       699\n",
      "            Safflower       0.39      0.10      0.17        86\n",
      "             Sannhamp       0.55      0.10      0.18       105\n",
      "              Sesamum       0.57      0.37      0.45       437\n",
      "        Small millets       0.62      0.25      0.36        96\n",
      "             Soyabean       0.30      0.06      0.10        49\n",
      "            Sugarcane       0.65      0.43      0.52       199\n",
      "            Sunflower       0.44      0.23      0.30       198\n",
      "              Tobacco       0.46      0.18      0.26        71\n",
      "             Turmeric       0.22      0.37      0.27       113\n",
      "                 Urad       0.45      0.39      0.42       347\n",
      "                Wheat       0.70      0.52      0.60       225\n",
      "\n",
      "             accuracy                           0.43      6820\n",
      "            macro avg       0.56      0.31      0.35      6820\n",
      "         weighted avg       0.53      0.43      0.43      6820\n",
      "\n"
     ]
    }
   ],
   "source": [
    "from sklearn.svm import SVC\n",
    "\n",
    "SVM = SVC(gamma='auto')\n",
    "\n",
    "SVM.fit(Xtrain,Ytrain)\n",
    "\n",
    "predicted_values = SVM.predict(Xtest)\n",
    "\n",
    "x = metrics.accuracy_score(Ytest, predicted_values)\n",
    "acc.append(x)\n",
    "model.append('SVM')\n",
    "print(\"SVM's Accuracy is: \", x)\n",
    "\n",
    "print(classification_report(Ytest,predicted_values))"
   ]
  },
  {
   "cell_type": "code",
   "execution_count": 15,
   "id": "88f3f1fb",
   "metadata": {},
   "outputs": [
    {
     "name": "stdout",
     "output_type": "stream",
     "text": [
      "Logistic Regression's Accuracy is:  0.11275659824046921\n",
      "                       precision    recall  f1-score   support\n",
      "\n",
      "             Arecanut       0.00      0.00      0.00        69\n",
      "            Arhar/Tur       0.00      0.00      0.00       142\n",
      "                Bajra       0.00      0.00      0.00        28\n",
      "               Barley       0.00      0.00      0.00       105\n",
      "             Cardamom       0.00      0.00      0.00         6\n",
      "          Castor seed       0.00      0.00      0.00        10\n",
      "         Cotton(lint)       0.00      0.00      0.00        60\n",
      "         Dry chillies       0.00      0.00      0.00       100\n",
      "           Dry ginger       0.00      0.00      0.00       132\n",
      "               Garlic       0.00      0.00      0.00        18\n",
      "                 Gram       0.00      0.00      0.00       155\n",
      "            Groundnut       0.00      0.00      0.00       420\n",
      "           Horse-gram       0.00      0.00      0.00       118\n",
      "                Jowar       0.00      0.00      0.00        20\n",
      "                 Jute       0.00      0.00      0.00       202\n",
      "              Khesari       0.00      0.00      0.00       200\n",
      "              Linseed       0.00      0.00      0.00       175\n",
      "                Maize       0.05      0.03      0.03       475\n",
      "               Masoor       0.00      0.00      0.00       230\n",
      "                Mesta       0.00      0.00      0.00       154\n",
      "    Moong(Green Gram)       0.08      0.92      0.15       459\n",
      "                 Moth       0.00      0.00      0.00         4\n",
      "           Niger seed       0.00      0.00      0.00       103\n",
      "   Other  Rabi pulses       0.00      0.00      0.00        23\n",
      "  Other Kharif pulses       0.00      0.00      0.00        36\n",
      "Peas & beans (Pulses)       0.00      0.00      0.00       201\n",
      "               Potato       0.00      0.00      0.00       239\n",
      "                 Ragi       0.00      0.00      0.00        72\n",
      "    Rapeseed &Mustard       0.00      0.00      0.00       239\n",
      "                 Rice       0.23      0.48      0.32       699\n",
      "            Safflower       0.00      0.00      0.00        86\n",
      "             Sannhamp       0.00      0.00      0.00       105\n",
      "              Sesamum       0.00      0.00      0.00       437\n",
      "        Small millets       0.00      0.00      0.00        96\n",
      "             Soyabean       0.00      0.00      0.00        49\n",
      "            Sugarcane       0.00      0.00      0.00       199\n",
      "            Sunflower       0.00      0.00      0.00       198\n",
      "              Tobacco       0.00      0.00      0.00        71\n",
      "             Turmeric       0.00      0.00      0.00       113\n",
      "                 Urad       0.00      0.00      0.00       347\n",
      "                Wheat       0.00      0.00      0.00       225\n",
      "\n",
      "             accuracy                           0.11      6820\n",
      "            macro avg       0.01      0.03      0.01      6820\n",
      "         weighted avg       0.03      0.11      0.04      6820\n",
      "\n"
     ]
    }
   ],
   "source": [
    "from sklearn.linear_model import LogisticRegression\n",
    "\n",
    "LogReg = LogisticRegression(random_state=2)\n",
    "\n",
    "LogReg.fit(Xtrain,Ytrain)\n",
    "\n",
    "predicted_values = LogReg.predict(Xtest)\n",
    "\n",
    "x = metrics.accuracy_score(Ytest, predicted_values)\n",
    "acc.append(x)\n",
    "model.append('Logistic Regression')\n",
    "print(\"Logistic Regression's Accuracy is: \", x)\n",
    "\n",
    "print(classification_report(Ytest,predicted_values))"
   ]
  },
  {
   "cell_type": "code",
   "execution_count": 16,
   "id": "ce091d8a",
   "metadata": {},
   "outputs": [
    {
     "name": "stdout",
     "output_type": "stream",
     "text": [
      "RF's Accuracy is:  0.7476539589442815\n",
      "                       precision    recall  f1-score   support\n",
      "\n",
      "             Arecanut       0.63      0.72      0.68        69\n",
      "            Arhar/Tur       0.52      0.61      0.56       142\n",
      "                Bajra       0.50      0.36      0.42        28\n",
      "               Barley       0.73      0.58      0.65       105\n",
      "             Cardamom       1.00      1.00      1.00         6\n",
      "          Castor seed       0.36      0.40      0.38        10\n",
      "         Cotton(lint)       0.77      0.73      0.75        60\n",
      "         Dry chillies       0.86      0.83      0.85       100\n",
      "           Dry ginger       0.80      0.80      0.80       132\n",
      "               Garlic       0.78      0.78      0.78        18\n",
      "                 Gram       0.69      0.71      0.70       155\n",
      "            Groundnut       0.75      0.72      0.73       420\n",
      "           Horse-gram       0.44      0.55      0.49       118\n",
      "                Jowar       0.47      0.45      0.46        20\n",
      "                 Jute       0.90      0.95      0.92       202\n",
      "              Khesari       0.71      0.73      0.72       200\n",
      "              Linseed       0.68      0.58      0.63       175\n",
      "                Maize       0.80      0.79      0.79       475\n",
      "               Masoor       0.75      0.77      0.76       230\n",
      "                Mesta       0.73      0.69      0.71       154\n",
      "    Moong(Green Gram)       0.62      0.63      0.63       459\n",
      "                 Moth       1.00      0.50      0.67         4\n",
      "           Niger seed       0.62      0.61      0.62       103\n",
      "   Other  Rabi pulses       0.54      0.61      0.57        23\n",
      "  Other Kharif pulses       0.59      0.75      0.66        36\n",
      "Peas & beans (Pulses)       0.66      0.59      0.62       201\n",
      "               Potato       0.89      0.93      0.91       239\n",
      "                 Ragi       0.59      0.65      0.62        72\n",
      "    Rapeseed &Mustard       0.89      0.89      0.89       239\n",
      "                 Rice       0.91      0.94      0.93       699\n",
      "            Safflower       0.48      0.45      0.47        86\n",
      "             Sannhamp       0.68      0.78      0.73       105\n",
      "              Sesamum       0.74      0.74      0.74       437\n",
      "        Small millets       0.69      0.62      0.66        96\n",
      "             Soyabean       0.50      0.43      0.46        49\n",
      "            Sugarcane       0.80      0.81      0.80       199\n",
      "            Sunflower       0.67      0.69      0.68       198\n",
      "              Tobacco       0.56      0.54      0.55        71\n",
      "             Turmeric       0.79      0.79      0.79       113\n",
      "                 Urad       0.76      0.71      0.73       347\n",
      "                Wheat       0.93      0.92      0.92       225\n",
      "\n",
      "             accuracy                           0.75      6820\n",
      "            macro avg       0.70      0.69      0.69      6820\n",
      "         weighted avg       0.75      0.75      0.75      6820\n",
      "\n"
     ]
    }
   ],
   "source": [
    "from sklearn.ensemble import RandomForestClassifier\n",
    "\n",
    "RF = RandomForestClassifier(n_estimators=20, random_state=0)\n",
    "RF.fit(Xtrain,Ytrain)\n",
    "\n",
    "predicted_values = RF.predict(Xtest)\n",
    "\n",
    "x = metrics.accuracy_score(Ytest, predicted_values)\n",
    "acc.append(x)\n",
    "model.append('RF')\n",
    "print(\"RF's Accuracy is: \", x)\n",
    "\n",
    "print(classification_report(Ytest,predicted_values))"
   ]
  },
  {
   "cell_type": "code",
   "execution_count": 18,
   "id": "da30d8b2",
   "metadata": {},
   "outputs": [
    {
     "data": {
      "text/plain": [
       "<AxesSubplot:title={'center':'Accuracy Comparison'}, xlabel='Accuracy', ylabel='Algorithm'>"
      ]
     },
     "execution_count": 18,
     "metadata": {},
     "output_type": "execute_result"
    },
    {
     "data": {
      "image/png": "[encoded data removed]",
      "text/plain": [
       "<Figure size 1000x500 with 1 Axes>"
      ]
     },
     "metadata": {
      "needs_background": "light"
     },
     "output_type": "display_data"
    }
   ],
   "source": [
    "plt.figure(figsize=[10,5],dpi = 100)\n",
    "plt.title('Accuracy Comparison')\n",
    "plt.xlabel('Accuracy')\n",
    "plt.ylabel('Algorithm')\n",
    "sns.barplot(x = acc,y = model,palette='dark')"
   ]
  },
  {
   "cell_type": "code",
   "execution_count": 19,
   "id": "880ba4a3",
   "metadata": {},
   "outputs": [
    {
     "name": "stdout",
     "output_type": "stream",
     "text": [
      "Decision Tree --> 0.15351906158357773\n",
      "Naive Bayes --> 0.0687683284457478\n",
      "SVM --> 0.4341642228739003\n",
      "Logistic Regression --> 0.11275659824046921\n",
      "RF --> 0.7476539589442815\n"
     ]
    }
   ],
   "source": [
    "accuracy_models = dict(zip(model, acc))\n",
    "for k, v in accuracy_models.items():\n",
    "    print (k, '-->', v)"
   ]
  },
  {
   "cell_type": "code",
   "execution_count": 386,
   "id": "66c2fbd1",
   "metadata": {},
   "outputs": [
    {
     "name": "stdout",
     "output_type": "stream",
     "text": [
      "Enter the Year: 2022\n",
      "Enter the Production (divided by 1000): 50\n",
      "['PREFERABLE CROP : Mesta']\n"
     ]
    }
   ],
   "source": [
    "y = int(input(\"Enter the Year: \"))\n",
    "p = float(input(\"Enter the Production (divided by 1000): \"))\n",
    "data = np.array([[y,p]])\n",
    "prediction = DecisionTree.predict(data)\n",
    "print(\"PREFERABLE CROP : \"+prediction)\n",
    "\n"
   ]
  },
  {
   "cell_type": "code",
   "execution_count": null,
   "id": "315a5e96",
   "metadata": {},
   "outputs": [],
   "source": []
  }
 ],
 "metadata": {
  "kernelspec": {
   "display_name": "Python 3",
   "language": "python",
   "name": "python3"
  },
  "language_info": {
   "codemirror_mode": {
    "name": "ipython",
    "version": 3
   },
   "file_extension": ".py",
   "mimetype": "text/x-python",
   "name": "python",
   "nbconvert_exporter": "python",
   "pygments_lexer": "ipython3",
   "version": "3.8.8"
  }
 },
 "nbformat": 4,
 "nbformat_minor": 5
}
